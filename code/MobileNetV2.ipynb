{
  "nbformat": 4,
  "nbformat_minor": 0,
  "metadata": {
    "colab": {
      "provenance": [],
      "gpuType": "T4"
    },
    "kernelspec": {
      "name": "python3",
      "display_name": "Python 3"
    },
    "language_info": {
      "name": "python"
    },
    "accelerator": "GPU"
  },
  "cells": [
    {
      "cell_type": "code",
      "execution_count": null,
      "metadata": {
        "id": "VhAzJ24KX2rv",
        "colab": {
          "base_uri": "https://localhost:8080/"
        },
        "outputId": "6e3e7585-ed67-4d08-c7dc-c1dca7cc0adb"
      },
      "outputs": [
        {
          "output_type": "stream",
          "name": "stdout",
          "text": [
            "Mounted at /content/drive\n"
          ]
        }
      ],
      "source": [
        "from google.colab import drive\n",
        "drive.mount('/content/drive')"
      ]
    },
    {
      "cell_type": "code",
      "source": [
        "import numpy as np\n",
        "import tensorflow as tf\n",
        "%matplotlib inline\n",
        "import matplotlib.pyplot as plt\n",
        "from PIL import Image\n",
        "import keras\n",
        "from keras.preprocessing.image import ImageDataGenerator\n",
        "from tensorflow.keras.applications.resnet50 import ResNet50\n",
        "from tensorflow.keras.applications.resnet50 import preprocess_input\n",
        "from keras import Model, layers\n",
        "from keras.models import load_model, model_from_json"
      ],
      "metadata": {
        "id": "Q7Bc7iKvcTxs"
      },
      "execution_count": null,
      "outputs": []
    },
    {
      "cell_type": "code",
      "source": [
        "CHANNELS=3\n",
        "\n",
        "train_datagen = ImageDataGenerator(\n",
        "    #shear_range=10,\n",
        "    #zoom_range=0.2,\n",
        "    horizontal_flip=True,\n",
        "    preprocessing_function=preprocess_input)\n",
        "\n",
        "train_generator = train_datagen.flow_from_directory(\n",
        "    '/content/drive/MyDrive/Pinapple_project/pine apple/Pine Apple/Train',\n",
        "    batch_size=32,\n",
        "    class_mode='categorical',\n",
        "    target_size=(224,224))\n",
        "\n",
        "validation_datagen = ImageDataGenerator(\n",
        "    preprocessing_function=preprocess_input)\n",
        "\n",
        "validation_generator = validation_datagen.flow_from_directory(\n",
        "   '/content/drive/MyDrive/Pinapple_project/pine apple/Pine Apple/Validation',\n",
        "    shuffle=False,\n",
        "    class_mode='categorical',\n",
        "    target_size=(224,224))\n",
        "test_generator = validation_datagen.flow_from_directory(\n",
        "   '/content/drive/MyDrive/Pinapple_project/pine apple/Pine Apple/Test',\n",
        "    shuffle=False,\n",
        "    class_mode='categorical',\n",
        "    target_size=(224,224))"
      ],
      "metadata": {
        "colab": {
          "base_uri": "https://localhost:8080/"
        },
        "id": "vS2bEwPccT0C",
        "outputId": "d1060308-b35d-464e-b57b-2cc71b1f56a6"
      },
      "execution_count": null,
      "outputs": [
        {
          "output_type": "stream",
          "name": "stdout",
          "text": [
            "Found 100 images belonging to 2 classes.\n",
            "Found 20 images belonging to 2 classes.\n",
            "Found 30 images belonging to 2 classes.\n"
          ]
        }
      ]
    },
    {
      "cell_type": "code",
      "source": [
        "x,y=test_generator.next()\n",
        "x.shape"
      ],
      "metadata": {
        "colab": {
          "base_uri": "https://localhost:8080/"
        },
        "id": "ILx7vH6wcT2K",
        "outputId": "a464c31c-f604-4600-f4a7-2ff707b5de2b"
      },
      "execution_count": null,
      "outputs": [
        {
          "output_type": "execute_result",
          "data": {
            "text/plain": [
              "(30, 224, 224, 3)"
            ]
          },
          "metadata": {},
          "execution_count": 5
        }
      ]
    },
    {
      "cell_type": "code",
      "source": [
        "import tensorflow as tf\n",
        "from keras.layers import Dense, Activation, Flatten\n",
        "\n",
        "dense = tf.keras.applications.mobilenet_v2.MobileNetV2(input_shape=(224,224,3), weights='imagenet', include_top=False) #MobileNetV2 model algorithom download\n",
        "\n",
        "for layer in dense.layers:\n",
        "    layer.trainable = False\n",
        "\n",
        "x = Flatten()(dense.output)\n",
        "prediction = Dense(2,activation='softmax')(x) #customize the model with our dataset\n",
        "model = Model(inputs=dense.input, outputs=prediction)\n",
        "\n",
        "model.compile( #compiling our customize model\n",
        "  loss='categorical_crossentropy',\n",
        "  optimizer='adam',\n",
        "  metrics=['accuracy']\n",
        ")\n",
        "\n",
        "#callbacks = [tf.keras.callbacks.TensorBoard(log_dir='log/{}'.format(dt.datetime.now().strftime(\"%Y-%m-%d-%H-%M-%S\")))]"
      ],
      "metadata": {
        "colab": {
          "base_uri": "https://localhost:8080/"
        },
        "id": "DKo5B7VgcT4k",
        "outputId": "6048d31a-ec3e-4cd6-8e56-78ef850d0c19"
      },
      "execution_count": null,
      "outputs": [
        {
          "output_type": "stream",
          "name": "stdout",
          "text": [
            "Downloading data from https://storage.googleapis.com/tensorflow/keras-applications/mobilenet_v2/mobilenet_v2_weights_tf_dim_ordering_tf_kernels_1.0_224_no_top.h5\n",
            "9406464/9406464 [==============================] - 0s 0us/step\n"
          ]
        }
      ]
    },
    {
      "cell_type": "code",
      "source": [
        "h=model.fit(\n",
        "  train_generator,\n",
        "  validation_data=test_generator,\n",
        "  batch_size=32, #data train korbe 8 ta kore ekbare\n",
        "  epochs=4, #hole data ke total 20 bar train korano hoi\n",
        "\n",
        ")"
      ],
      "metadata": {
        "colab": {
          "base_uri": "https://localhost:8080/"
        },
        "id": "8DeMBYSZeQA0",
        "outputId": "a6b5c199-d209-46ce-aa9f-537f7e8cb27d"
      },
      "execution_count": null,
      "outputs": [
        {
          "output_type": "stream",
          "name": "stdout",
          "text": [
            "Epoch 1/4\n",
            "4/4 [==============================] - 11s 4s/step - loss: 0.0083 - accuracy: 0.9900 - val_loss: 0.0217 - val_accuracy: 1.0000\n",
            "Epoch 2/4\n",
            "4/4 [==============================] - 9s 2s/step - loss: 1.7320e-06 - accuracy: 1.0000 - val_loss: 0.0212 - val_accuracy: 1.0000\n",
            "Epoch 3/4\n",
            "4/4 [==============================] - 8s 2s/step - loss: 5.9605e-09 - accuracy: 1.0000 - val_loss: 0.0209 - val_accuracy: 1.0000\n",
            "Epoch 4/4\n",
            "4/4 [==============================] - 9s 3s/step - loss: 0.0062 - accuracy: 1.0000 - val_loss: 0.0011 - val_accuracy: 1.0000\n"
          ]
        }
      ]
    },
    {
      "cell_type": "code",
      "source": [
        "loss, accuracy = model.evaluate(test_generator )\n",
        "\n",
        "# Print the accuracy\n",
        "print(\"Accuracy: \" + str(accuracy))\n",
        "# Print the loss\n",
        "print(\"Loss: \" + str(loss))"
      ],
      "metadata": {
        "colab": {
          "base_uri": "https://localhost:8080/"
        },
        "id": "XZEyyCeneQDM",
        "outputId": "ff564388-b020-4b90-b96b-813f5439b29b"
      },
      "execution_count": null,
      "outputs": [
        {
          "output_type": "stream",
          "name": "stdout",
          "text": [
            "1/1 [==============================] - 2s 2s/step - loss: 0.0011 - accuracy: 1.0000\n",
            "Accuracy: 1.0\n",
            "Loss: 0.0010567452991381288\n"
          ]
        }
      ]
    },
    {
      "cell_type": "code",
      "source": [
        "test_generator.class_indices"
      ],
      "metadata": {
        "colab": {
          "base_uri": "https://localhost:8080/"
        },
        "id": "M2sPtivSeQFU",
        "outputId": "e5bd7635-4d91-45b8-ecd8-b0780b6a5a3e"
      },
      "execution_count": null,
      "outputs": [
        {
          "output_type": "execute_result",
          "data": {
            "text/plain": [
              "{'Bad': 0, 'Good': 1}"
            ]
          },
          "metadata": {},
          "execution_count": 11
        }
      ]
    },
    {
      "cell_type": "code",
      "source": [
        "import numpy as np\n",
        "from sklearn import metrics\n",
        "\n",
        "predictions = model.predict_generator(test_generator)\n",
        "predicted_classes = np.argmax(predictions, axis = 1)\n",
        "true_classes = test_generator.classes\n",
        "class_labels = ['Bad','Good']\n",
        "report = metrics.classification_report(true_classes, predicted_classes, target_names = class_labels)\n",
        "print(report)"
      ],
      "metadata": {
        "colab": {
          "base_uri": "https://localhost:8080/"
        },
        "id": "yJzUTL3geQHN",
        "outputId": "00a66513-ffe6-42fd-df0d-6a9abdd1921b"
      },
      "execution_count": null,
      "outputs": [
        {
          "output_type": "stream",
          "name": "stderr",
          "text": [
            "<ipython-input-12-6397bf7cfff7>:4: UserWarning: `Model.predict_generator` is deprecated and will be removed in a future version. Please use `Model.predict`, which supports generators.\n",
            "  predictions = model.predict_generator(test_generator)\n"
          ]
        },
        {
          "output_type": "stream",
          "name": "stdout",
          "text": [
            "              precision    recall  f1-score   support\n",
            "\n",
            "         Bad       1.00      1.00      1.00        15\n",
            "        Good       1.00      1.00      1.00        15\n",
            "\n",
            "    accuracy                           1.00        30\n",
            "   macro avg       1.00      1.00      1.00        30\n",
            "weighted avg       1.00      1.00      1.00        30\n",
            "\n"
          ]
        }
      ]
    },
    {
      "cell_type": "code",
      "source": [
        "import seaborn as sn\n",
        "import pandas as pd\n",
        "import matplotlib.pyplot as plt\n",
        "\n",
        "cm = metrics.confusion_matrix(true_classes, predicted_classes)\n",
        "df_cm = pd.DataFrame(cm, index = [i for i in ['Bad','Good']],\n",
        "                  columns = [i for i in ['Bad','Good']])\n",
        "plt.figure(figsize = (10,7))\n",
        "sn.heatmap(df_cm, annot=True, fmt='d')"
      ],
      "metadata": {
        "colab": {
          "base_uri": "https://localhost:8080/",
          "height": 616
        },
        "id": "YqayR25PeQJc",
        "outputId": "2f970e89-c0a0-4d34-bd27-0faf5f7eafec"
      },
      "execution_count": null,
      "outputs": [
        {
          "output_type": "execute_result",
          "data": {
            "text/plain": [
              "<Axes: >"
            ]
          },
          "metadata": {},
          "execution_count": 16
        },
        {
          "output_type": "display_data",
          "data": {
            "text/plain": [
              "<Figure size 1000x700 with 2 Axes>"
            ],
            "image/png": "[encoded data removed]"
          },
          "metadata": {}
        }
      ]
    }
  ]
}